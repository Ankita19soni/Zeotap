{
  "nbformat": 4,
  "nbformat_minor": 0,
  "metadata": {
    "colab": {
      "provenance": []
    },
    "kernelspec": {
      "name": "python3",
      "display_name": "Python 3"
    },
    "language_info": {
      "name": "python"
    }
  },
  "cells": [
    {
      "cell_type": "code",
      "execution_count": 13,
      "metadata": {
        "id": "V3_06U8kazYB",
        "colab": {
          "base_uri": "https://localhost:8080/"
        },
        "outputId": "73284eb3-de92-4bba-accb-b0ad8b0f7757"
      },
      "outputs": [
        {
          "output_type": "stream",
          "name": "stdout",
          "text": [
            "Lookalike recommendations saved as 'FirstName_LastName_Lookalike.csv'\n"
          ]
        }
      ],
      "source": [
        "# Required libraries\n",
        "import pandas as pd\n",
        "from sklearn.metrics.pairwise import cosine_similarity\n",
        "from sklearn.preprocessing import StandardScaler\n",
        "\n",
        "# Load datasets\n",
        "customers = pd.read_csv('Customers.csv')\n",
        "products = pd.read_csv('Products.csv')\n",
        "transactions = pd.read_csv('Transactions.csv')\n",
        "\n",
        "# Preprocessing: Create customer-level features\n",
        "# Calculate total transactions, spending, and categories purchased\n",
        "customer_features = transactions.groupby('CustomerID').agg(\n",
        "    TotalTransactions=('TransactionID', 'count'),\n",
        "    TotalSpending=('TotalValue', 'sum')\n",
        ").reset_index()\n",
        "\n",
        "# Add region information from Customers.csv\n",
        "customer_features = customer_features.merge(customers[['CustomerID', 'Region']], on='CustomerID', how='left')\n",
        "\n",
        "# One-hot encode regions\n",
        "customer_features = pd.get_dummies(customer_features, columns=['Region'], prefix='Region')\n",
        "\n",
        "# Normalize features for cosine similarity\n",
        "scaler = StandardScaler()\n",
        "features_scaled = scaler.fit_transform(customer_features.drop(columns=['CustomerID']))\n",
        "\n",
        "# Calculate cosine similarity\n",
        "similarity_matrix = cosine_similarity(features_scaled)\n",
        "\n",
        "# Create Lookalike Recommendations\n",
        "lookalike_dict = {}\n",
        "\n",
        "for idx, customer_id in enumerate(customer_features['CustomerID']):\n",
        "    # Get similarity scores for the current customer\n",
        "    similarity_scores = list(enumerate(similarity_matrix[idx]))\n",
        "\n",
        "    # Sort by similarity score in descending order, exclude self (score=1 for self)\n",
        "    similar_customers = sorted(similarity_scores, key=lambda x: x[1], reverse=True)[1:4]\n",
        "\n",
        "    # Store top 3 recommendations with similarity scores\n",
        "    lookalike_dict[customer_id] = [\n",
        "        (customer_features['CustomerID'].iloc[i], round(score, 4)) for i, score in similar_customers\n",
        "    ]\n",
        "\n",
        "# Generate Lookalike.csv\n",
        "lookalike_df = pd.DataFrame({\n",
        "    'CustomerID': lookalike_dict.keys(),\n",
        "    'Recommendations': [str(rec) for rec in lookalike_dict.values()]\n",
        "})\n",
        "\n",
        "lookalike_df.to_csv('FirstName_LastName_Lookalike.csv', index=False)\n",
        "print(\"Lookalike recommendations saved as 'FirstName_LastName_Lookalike.csv'\")\n"
      ]
    }
  ]
}